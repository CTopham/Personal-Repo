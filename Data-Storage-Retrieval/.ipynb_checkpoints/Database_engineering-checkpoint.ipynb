{
 "cells": [
  {
   "cell_type": "code",
   "execution_count": null,
   "metadata": {},
   "outputs": [],
   "source": [
    "#Normal Analytics Dependencies\n",
    "import matplotlib\n",
    "import pandas as pd\n",
    "import numpy as np\n",
    "matplotlib.use('nbagg')\n",
    "import matplotlib.pyplot as plt\n",
    "from matplotlib import style\n",
    "style.use('seaborn')\n",
    "\n",
    "#ORM Dependencies\n",
    "from sqlalchemy import create_engine, Column, Integer, String, Float, inspect\n",
    "from sqlalchemy.ext.declarative import declarative_base\n",
    "\n",
    "# Declaritive base for table schema creation\n",
    "Base = declarative_base()"
   ]
  },
  {
   "cell_type": "code",
   "execution_count": null,
   "metadata": {},
   "outputs": [],
   "source": [
    "Measurements_path = \"Output/Clean_Measurement.csv\"\n",
    "Stations_path = \"Output/Clean_Station.csv\"\n",
    "#Reading data\n",
    "Measurement_df = pd.read_csv(Measurements_path, encoding=\"utf-8\")\n",
    "Station_df = pd.read_csv(Stations_path, encoding=\"utf-8\")"
   ]
  },
  {
   "cell_type": "code",
   "execution_count": null,
   "metadata": {},
   "outputs": [],
   "source": [
    "engine = create_engine(\"sqlite:///hawaii.sqlite\")\n",
    "conn = engine.connect()"
   ]
  },
  {
   "cell_type": "code",
   "execution_count": null,
   "metadata": {},
   "outputs": [],
   "source": [
    " # Define a Measurement class\n",
    "### BEGIN SOLUTION\n",
    "class Prescription(Base):\n",
    "    __tablename__ = \"prescription\"\n",
    "    \n",
    "    id = Column(Integer, primary_key=True)\n",
    "    name = Column(String)\n",
    "    strength = Column(Float) # strength of dose in milligrams\n",
    "    doses_per_administration = Column(Integer) # number of doses per administration\n",
    "    route = Column(String) # oral, I.M., etc.\n",
    "    administrations_per_day = Column(String) # E.g., \"Twice per day\"\n",
    "    total_quantity_to_dispense = Column(Integer) # Number of pills to dispense\n",
    "    refill_limit = Column(Integer)\n",
    "    refill_frequency = Column(String)\n",
    "### END SOLUTION"
   ]
  },
  {
   "cell_type": "code",
   "execution_count": null,
   "metadata": {},
   "outputs": [],
   "source": [
    "#Creating tables in SQL\n",
    "Base.metadata.create_all(engine)\n",
    "session = Session(bind=engine)\n",
    "\n",
    "# Add Records to the Appropriate DB\n",
    "# ----------------------------------\n",
    "# Use the SQL ALchemy methods to run simple \"INSERT\" statements using the classes and objects  \n",
    "session.add(dog)\n",
    "session.add(cat)\n",
    "session.commit()\n"
   ]
  }
 ],
 "metadata": {
  "kernelspec": {
   "display_name": "Python 3",
   "language": "python",
   "name": "python3"
  },
  "language_info": {
   "codemirror_mode": {
    "name": "ipython",
    "version": 3
   },
   "file_extension": ".py",
   "mimetype": "text/x-python",
   "name": "python",
   "nbconvert_exporter": "python",
   "pygments_lexer": "ipython3",
   "version": "3.6.4"
  }
 },
 "nbformat": 4,
 "nbformat_minor": 2
}
