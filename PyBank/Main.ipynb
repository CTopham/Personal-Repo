{
 "cells": [
  {
   "cell_type": "code",
   "execution_count": 1,
   "metadata": {},
   "outputs": [],
   "source": [
    "\n",
    "#The total number of months included in the dataset (count)\n",
    "#The total amount of revenue gained over the entire period (sum)\n",
    "#The average change in revenue between months over the entire period \n",
    "#The greatest increase in revenue (date and amount) over the entire period \n",
    "#The greatest decrease in revenue (date and amount) over the entire period\n",
    "\n",
    "import pandas as pd\n",
    "import numpy as np\n",
    "import os as os\n",
    "import csv"
   ]
  },
  {
   "cell_type": "code",
   "execution_count": 2,
   "metadata": {},
   "outputs": [
    {
     "data": {
      "text/html": [
       "<div>\n",
       "<style scoped>\n",
       "    .dataframe tbody tr th:only-of-type {\n",
       "        vertical-align: middle;\n",
       "    }\n",
       "\n",
       "    .dataframe tbody tr th {\n",
       "        vertical-align: top;\n",
       "    }\n",
       "\n",
       "    .dataframe thead th {\n",
       "        text-align: right;\n",
       "    }\n",
       "</style>\n",
       "<table border=\"1\" class=\"dataframe\">\n",
       "  <thead>\n",
       "    <tr style=\"text-align: right;\">\n",
       "      <th></th>\n",
       "      <th>Date</th>\n",
       "      <th>Revenue</th>\n",
       "    </tr>\n",
       "  </thead>\n",
       "  <tbody>\n",
       "    <tr>\n",
       "      <th>0</th>\n",
       "      <td>1/1/2010</td>\n",
       "      <td>356218</td>\n",
       "    </tr>\n",
       "    <tr>\n",
       "      <th>1</th>\n",
       "      <td>2/1/2010</td>\n",
       "      <td>620718</td>\n",
       "    </tr>\n",
       "    <tr>\n",
       "      <th>2</th>\n",
       "      <td>3/1/2010</td>\n",
       "      <td>589166</td>\n",
       "    </tr>\n",
       "    <tr>\n",
       "      <th>3</th>\n",
       "      <td>4/1/2010</td>\n",
       "      <td>-240031</td>\n",
       "    </tr>\n",
       "    <tr>\n",
       "      <th>4</th>\n",
       "      <td>5/1/2010</td>\n",
       "      <td>130388</td>\n",
       "    </tr>\n",
       "  </tbody>\n",
       "</table>\n",
       "</div>"
      ],
      "text/plain": [
       "       Date  Revenue\n",
       "0  1/1/2010   356218\n",
       "1  2/1/2010   620718\n",
       "2  3/1/2010   589166\n",
       "3  4/1/2010  -240031\n",
       "4  5/1/2010   130388"
      ]
     },
     "execution_count": 2,
     "metadata": {},
     "output_type": "execute_result"
    }
   ],
   "source": [
    "#importing CSV File\n",
    "#csv_path = \"Generators/budget_data1.csv\"\n",
    "csv_path = \"Generators/budget_data2.csv\"\n",
    "\n",
    "banks_df = pd.read_csv(csv_path, encoding=\"utf-8\")\n",
    "banks_df.head()\n"
   ]
  },
  {
   "cell_type": "code",
   "execution_count": 3,
   "metadata": {},
   "outputs": [
    {
     "data": {
      "text/plain": [
       "86"
      ]
     },
     "execution_count": 3,
     "metadata": {},
     "output_type": "execute_result"
    }
   ],
   "source": [
    "#Date count\n",
    "date_count = len(banks_df['Date'].unique())\n",
    "\n",
    "date_count\n"
   ]
  },
  {
   "cell_type": "code",
   "execution_count": 4,
   "metadata": {},
   "outputs": [
    {
     "name": "stdout",
     "output_type": "stream",
     "text": [
      "40101634\n"
     ]
    }
   ],
   "source": [
    "#Revenue sum\n",
    "revenuesum = banks_df[\"Revenue\"].sum()\n",
    "\n",
    "print (revenuesum)"
   ]
  },
  {
   "cell_type": "code",
   "execution_count": 5,
   "metadata": {},
   "outputs": [
    {
     "data": {
      "text/html": [
       "<div>\n",
       "<style scoped>\n",
       "    .dataframe tbody tr th:only-of-type {\n",
       "        vertical-align: middle;\n",
       "    }\n",
       "\n",
       "    .dataframe tbody tr th {\n",
       "        vertical-align: top;\n",
       "    }\n",
       "\n",
       "    .dataframe thead th {\n",
       "        text-align: right;\n",
       "    }\n",
       "</style>\n",
       "<table border=\"1\" class=\"dataframe\">\n",
       "  <thead>\n",
       "    <tr style=\"text-align: right;\">\n",
       "      <th></th>\n",
       "      <th>Date</th>\n",
       "      <th>Revenue</th>\n",
       "      <th>Percent Change</th>\n",
       "    </tr>\n",
       "  </thead>\n",
       "  <tbody>\n",
       "    <tr>\n",
       "      <th>0</th>\n",
       "      <td>1/1/2010</td>\n",
       "      <td>356218</td>\n",
       "      <td>NaN</td>\n",
       "    </tr>\n",
       "    <tr>\n",
       "      <th>1</th>\n",
       "      <td>2/1/2010</td>\n",
       "      <td>620718</td>\n",
       "      <td>0.742523</td>\n",
       "    </tr>\n",
       "    <tr>\n",
       "      <th>2</th>\n",
       "      <td>3/1/2010</td>\n",
       "      <td>589166</td>\n",
       "      <td>-0.050831</td>\n",
       "    </tr>\n",
       "    <tr>\n",
       "      <th>3</th>\n",
       "      <td>4/1/2010</td>\n",
       "      <td>-240031</td>\n",
       "      <td>-1.407408</td>\n",
       "    </tr>\n",
       "    <tr>\n",
       "      <th>4</th>\n",
       "      <td>5/1/2010</td>\n",
       "      <td>130388</td>\n",
       "      <td>-1.543213</td>\n",
       "    </tr>\n",
       "  </tbody>\n",
       "</table>\n",
       "</div>"
      ],
      "text/plain": [
       "       Date  Revenue  Percent Change\n",
       "0  1/1/2010   356218             NaN\n",
       "1  2/1/2010   620718        0.742523\n",
       "2  3/1/2010   589166       -0.050831\n",
       "3  4/1/2010  -240031       -1.407408\n",
       "4  5/1/2010   130388       -1.543213"
      ]
     },
     "execution_count": 5,
     "metadata": {},
     "output_type": "execute_result"
    }
   ],
   "source": [
    "#Bringing in the percent change column\n",
    "percentchange = banks_df[\"Revenue\"].pct_change()\n",
    "banks_df[\"Percent Change\"] = percentchange\n",
    "\n",
    "banks_df.head()"
   ]
  },
  {
   "cell_type": "code",
   "execution_count": 6,
   "metadata": {},
   "outputs": [
    {
     "data": {
      "text/html": [
       "<div>\n",
       "<style scoped>\n",
       "    .dataframe tbody tr th:only-of-type {\n",
       "        vertical-align: middle;\n",
       "    }\n",
       "\n",
       "    .dataframe tbody tr th {\n",
       "        vertical-align: top;\n",
       "    }\n",
       "\n",
       "    .dataframe thead th {\n",
       "        text-align: right;\n",
       "    }\n",
       "</style>\n",
       "<table border=\"1\" class=\"dataframe\">\n",
       "  <thead>\n",
       "    <tr style=\"text-align: right;\">\n",
       "      <th></th>\n",
       "      <th>Date</th>\n",
       "      <th>Revenue</th>\n",
       "      <th>Percent Change</th>\n",
       "    </tr>\n",
       "  </thead>\n",
       "  <tbody>\n",
       "    <tr>\n",
       "      <th>48</th>\n",
       "      <td>1/1/2014</td>\n",
       "      <td>1181050</td>\n",
       "      <td>8.142528</td>\n",
       "    </tr>\n",
       "    <tr>\n",
       "      <th>10</th>\n",
       "      <td>11/1/2010</td>\n",
       "      <td>565618</td>\n",
       "      <td>6.832309</td>\n",
       "    </tr>\n",
       "    <tr>\n",
       "      <th>78</th>\n",
       "      <td>7/1/2016</td>\n",
       "      <td>856523</td>\n",
       "      <td>4.867359</td>\n",
       "    </tr>\n",
       "    <tr>\n",
       "      <th>53</th>\n",
       "      <td>6/1/2014</td>\n",
       "      <td>850183</td>\n",
       "      <td>4.714056</td>\n",
       "    </tr>\n",
       "    <tr>\n",
       "      <th>71</th>\n",
       "      <td>12/1/2015</td>\n",
       "      <td>-873788</td>\n",
       "      <td>2.965743</td>\n",
       "    </tr>\n",
       "  </tbody>\n",
       "</table>\n",
       "</div>"
      ],
      "text/plain": [
       "         Date  Revenue  Percent Change\n",
       "48   1/1/2014  1181050        8.142528\n",
       "10  11/1/2010   565618        6.832309\n",
       "78   7/1/2016   856523        4.867359\n",
       "53   6/1/2014   850183        4.714056\n",
       "71  12/1/2015  -873788        2.965743"
      ]
     },
     "execution_count": 6,
     "metadata": {},
     "output_type": "execute_result"
    }
   ],
   "source": [
    "banks_df= banks_df.sort_values(\"Percent Change\", ascending=False)\n",
    "\n",
    "banks_df.head()"
   ]
  },
  {
   "cell_type": "code",
   "execution_count": 7,
   "metadata": {},
   "outputs": [
    {
     "data": {
      "text/html": [
       "<div>\n",
       "<style scoped>\n",
       "    .dataframe tbody tr th:only-of-type {\n",
       "        vertical-align: middle;\n",
       "    }\n",
       "\n",
       "    .dataframe tbody tr th {\n",
       "        vertical-align: top;\n",
       "    }\n",
       "\n",
       "    .dataframe thead th {\n",
       "        text-align: right;\n",
       "    }\n",
       "</style>\n",
       "<table border=\"1\" class=\"dataframe\">\n",
       "  <thead>\n",
       "    <tr style=\"text-align: right;\">\n",
       "      <th></th>\n",
       "      <th>Date</th>\n",
       "      <th>Revenue</th>\n",
       "      <th>Percent Change</th>\n",
       "    </tr>\n",
       "  </thead>\n",
       "  <tbody>\n",
       "    <tr>\n",
       "      <th>0</th>\n",
       "      <td>1/1/2014</td>\n",
       "      <td>1181050</td>\n",
       "      <td>8.142528</td>\n",
       "    </tr>\n",
       "    <tr>\n",
       "      <th>1</th>\n",
       "      <td>11/1/2010</td>\n",
       "      <td>565618</td>\n",
       "      <td>6.832309</td>\n",
       "    </tr>\n",
       "    <tr>\n",
       "      <th>2</th>\n",
       "      <td>7/1/2016</td>\n",
       "      <td>856523</td>\n",
       "      <td>4.867359</td>\n",
       "    </tr>\n",
       "    <tr>\n",
       "      <th>3</th>\n",
       "      <td>6/1/2014</td>\n",
       "      <td>850183</td>\n",
       "      <td>4.714056</td>\n",
       "    </tr>\n",
       "    <tr>\n",
       "      <th>4</th>\n",
       "      <td>12/1/2015</td>\n",
       "      <td>-873788</td>\n",
       "      <td>2.965743</td>\n",
       "    </tr>\n",
       "  </tbody>\n",
       "</table>\n",
       "</div>"
      ],
      "text/plain": [
       "        Date  Revenue  Percent Change\n",
       "0   1/1/2014  1181050        8.142528\n",
       "1  11/1/2010   565618        6.832309\n",
       "2   7/1/2016   856523        4.867359\n",
       "3   6/1/2014   850183        4.714056\n",
       "4  12/1/2015  -873788        2.965743"
      ]
     },
     "execution_count": 7,
     "metadata": {},
     "output_type": "execute_result"
    }
   ],
   "source": [
    "#Reseting the index\n",
    "banks_df = banks_df.reset_index(drop=True)\n",
    "banks_df.head()"
   ]
  },
  {
   "cell_type": "code",
   "execution_count": 8,
   "metadata": {},
   "outputs": [
    {
     "data": {
      "text/plain": [
       "Date              1/1/2014\n",
       "Revenue            1181050\n",
       "Percent Change     8.14253\n",
       "Name: 0, dtype: object"
      ]
     },
     "execution_count": 8,
     "metadata": {},
     "output_type": "execute_result"
    }
   ],
   "source": [
    "#Biggest price increase\n",
    "big_increase = banks_df.loc[banks_df['Revenue'].idxmax()]\n",
    "big_increase\n"
   ]
  },
  {
   "cell_type": "code",
   "execution_count": 9,
   "metadata": {},
   "outputs": [
    {
     "data": {
      "text/plain": [
       "Date              10/1/2011\n",
       "Revenue            -1038468\n",
       "Percent Change     -1.98671\n",
       "Name: 73, dtype: object"
      ]
     },
     "execution_count": 9,
     "metadata": {},
     "output_type": "execute_result"
    }
   ],
   "source": [
    "#Biggest price decrease\n",
    "big_decrease = banks_df.loc[banks_df['Revenue'].idxmin()]\n",
    "big_decrease"
   ]
  },
  {
   "cell_type": "code",
   "execution_count": 10,
   "metadata": {},
   "outputs": [],
   "source": [
    "#Convert to numeric \n",
    "banks_df[\"Percent Change\"] = pd.to_numeric(banks_df[\"Percent Change\"])"
   ]
  },
  {
   "cell_type": "code",
   "execution_count": 11,
   "metadata": {},
   "outputs": [
    {
     "data": {
      "text/plain": [
       "Date               object\n",
       "Revenue             int64\n",
       "Percent Change    float64\n",
       "dtype: object"
      ]
     },
     "execution_count": 11,
     "metadata": {},
     "output_type": "execute_result"
    }
   ],
   "source": [
    "#Convert to numeric \n",
    "banks_df[\"Revenue\"] = pd.to_numeric(banks_df[\"Revenue\"])\n",
    "banks_df.dtypes"
   ]
  },
  {
   "cell_type": "code",
   "execution_count": 12,
   "metadata": {},
   "outputs": [
    {
     "data": {
      "text/plain": [
       "-0.3168362729793804"
      ]
     },
     "execution_count": 12,
     "metadata": {},
     "output_type": "execute_result"
    }
   ],
   "source": [
    "average_percent = banks_df[\"Percent Change\"].mean()\n",
    "average_percent"
   ]
  },
  {
   "cell_type": "code",
   "execution_count": 13,
   "metadata": {},
   "outputs": [
    {
     "name": "stdout",
     "output_type": "stream",
     "text": [
      "Total Months\n",
      "86\n",
      "-------------------------------------------\n",
      "Total Revenue\n",
      "40101634\n",
      "-------------------------------------------\n",
      "Average Percent Change\n",
      "-0.3168362729793804\n",
      "-------------------------------------------\n",
      "Biggest Revenue Increase\n",
      "Date              1/1/2014\n",
      "Revenue            1181050\n",
      "Percent Change     8.14253\n",
      "Name: 0, dtype: object\n",
      "-------------------------------------------\n",
      "Biggest Revenue Decrease\n",
      "Date              10/1/2011\n",
      "Revenue            -1038468\n",
      "Percent Change     -1.98671\n",
      "Name: 73, dtype: object\n",
      "-------------------------------------------\n"
     ]
    }
   ],
   "source": [
    "print (\"Total Months\")\n",
    "print(str(date_count))\n",
    "\n",
    "print(\"-------------------------------------------\")\n",
    "print (f\"Total Revenue\")\n",
    "\n",
    "print (str(revenuesum))\n",
    "\n",
    "print(\"-------------------------------------------\")\n",
    "print (\"Average Percent Change\")\n",
    "\n",
    "print (str(average_percent))\n",
    "\n",
    "print(\"-------------------------------------------\")\n",
    "print (\"Biggest Revenue Increase\")\n",
    "print (str(big_increase))\n",
    "print(\"-------------------------------------------\")\n",
    "print (\"Biggest Revenue Decrease\")\n",
    "print (str(big_decrease))\n",
    "print(\"-------------------------------------------\")"
   ]
  },
  {
   "cell_type": "code",
   "execution_count": 14,
   "metadata": {},
   "outputs": [
    {
     "name": "stdout",
     "output_type": "stream",
     "text": [
      "back to normal\n"
     ]
    }
   ],
   "source": [
    "\n",
    "#Printing to text\n",
    "import sys\n",
    "temp = sys.stdout                 \n",
    "sys.stdout = open('log.txt', 'w') \n",
    "print(\"------data 1-------\") \n",
    "print(\"Total Months : 41\")               \n",
    "print(\"Total Revenue 18971412\")\n",
    "print(\"Average Percent Change: 0.19399241723920382\")\n",
    "print (\"Biggest Revenue Increase:1195111\")\n",
    "print(\"Biggest Percentage Decrease:-1172384\")\n",
    "print(\"-------data 2-------\") \n",
    "print(\"Total Months : 86\") \n",
    "print(\"Total Revenue : 40101634\")\n",
    "print(\"Average Percent Change:-0.3168362729793804\")\n",
    "print (\"Biggest Revenue Increase:1181050\")\n",
    "print (\"Biggest Revenue Decrease:-1038468\")\n",
    "sys.stdout.close()                \n",
    "sys.stdout = temp                 \n",
    "print(\"back to normal\") "
   ]
  },
  {
   "cell_type": "code",
   "execution_count": null,
   "metadata": {},
   "outputs": [],
   "source": []
  }
 ],
 "metadata": {
  "kernelspec": {
   "display_name": "Python 3",
   "language": "python",
   "name": "python3"
  },
  "language_info": {
   "codemirror_mode": {
    "name": "ipython",
    "version": 3
   },
   "file_extension": ".py",
   "mimetype": "text/x-python",
   "name": "python",
   "nbconvert_exporter": "python",
   "pygments_lexer": "ipython3",
   "version": "3.6.4"
  }
 },
 "nbformat": 4,
 "nbformat_minor": 2
}
