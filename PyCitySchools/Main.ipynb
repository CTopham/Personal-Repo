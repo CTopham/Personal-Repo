{
 "cells": [
  {
   "cell_type": "code",
   "execution_count": null,
   "metadata": {
    "collapsed": true
   },
   "outputs": [],
   "source": [
    "#Craig Topham \n",
    "#School Analysis\n",
    "\n",
    "#Dependencies\n",
    "import pandas as pd\n",
    "import numpy as np\n"
   ]
  },
  {
   "cell_type": "code",
   "execution_count": null,
   "metadata": {
    "collapsed": true
   },
   "outputs": [],
   "source": [
    "#Pathing inputs\n",
    "csv_school = \"raw_data/schools_complete.csv\"\n",
    "csv_student = \"raw_data/students_complete.csv\""
   ]
  },
  {
   "cell_type": "code",
   "execution_count": null,
   "metadata": {},
   "outputs": [],
   "source": [
    "#Reading files\n",
    "school_df = pd.read_csv(csv_school)\n",
    "student_df = pd.read_csv(csv_student)\n",
    "school_df.head()"
   ]
  },
  {
   "cell_type": "code",
   "execution_count": null,
   "metadata": {},
   "outputs": [],
   "source": [
    "student_df.head()"
   ]
  },
  {
   "cell_type": "code",
   "execution_count": null,
   "metadata": {},
   "outputs": [],
   "source": [
    "#Getting the number of schools\n",
    "school_count = len(school_df.index)\n",
    "school_count"
   ]
  },
  {
   "cell_type": "code",
   "execution_count": null,
   "metadata": {},
   "outputs": [],
   "source": [
    "#Grabbing student count\n",
    "student_count = len (student_df.index)\n",
    "student_count\n"
   ]
  },
  {
   "cell_type": "code",
   "execution_count": null,
   "metadata": {},
   "outputs": [],
   "source": [
    "#Total Budget\n",
    "total_budget = school_df[\"budget\"].sum()\n",
    "total_budget"
   ]
  },
  {
   "cell_type": "code",
   "execution_count": null,
   "metadata": {},
   "outputs": [],
   "source": [
    "student_df.columns"
   ]
  },
  {
   "cell_type": "code",
   "execution_count": null,
   "metadata": {},
   "outputs": [],
   "source": [
    "#Average Math score\n",
    "average_math = student_df[\"math_score\"].mean()\n",
    "average_math"
   ]
  },
  {
   "cell_type": "code",
   "execution_count": null,
   "metadata": {},
   "outputs": [],
   "source": [
    "#Average reading score\n",
    "average_reading = student_df[\"reading_score\"].mean()\n",
    "average_reading"
   ]
  },
  {
   "cell_type": "code",
   "execution_count": null,
   "metadata": {
    "collapsed": true
   },
   "outputs": [],
   "source": [
    "# % passing math\n",
    "#Looping to place a \"p\" in a list for each pass\n",
    "math_passer= []\n",
    "for row in student_df['math_score']:\n",
    "    if row >= 70:\n",
    "        math_passer.append('p')\n",
    "    "
   ]
  },
  {
   "cell_type": "code",
   "execution_count": null,
   "metadata": {},
   "outputs": [],
   "source": [
    "# % passing math..cont..\n",
    "#placing \"p\" in list for a count \n",
    "math_df=pd.DataFrame(math_passer)\n",
    "x = len (math_df.index)\n",
    "x"
   ]
  },
  {
   "cell_type": "code",
   "execution_count": null,
   "metadata": {},
   "outputs": [],
   "source": [
    "# % passing math..cont..\n",
    "#dividing passers by total students \n",
    "math_pass_percentage = x / student_count\n",
    "math_pass_percentage"
   ]
  },
  {
   "cell_type": "code",
   "execution_count": null,
   "metadata": {
    "collapsed": true
   },
   "outputs": [],
   "source": [
    "# % passing reading\n",
    "#Looping to place a \"p\" in a list for each pass\n",
    "read_passer= []\n",
    "for row in student_df['reading_score']:\n",
    "    if row >= 70:\n",
    "        read_passer.append('p')"
   ]
  },
  {
   "cell_type": "code",
   "execution_count": null,
   "metadata": {},
   "outputs": [],
   "source": [
    "# % passing reading..cont..\n",
    "#placing \"p\" in list for a count \n",
    "read_df=pd.DataFrame(read_passer)\n",
    "y = len (read_df.index)\n",
    "y"
   ]
  },
  {
   "cell_type": "code",
   "execution_count": null,
   "metadata": {},
   "outputs": [],
   "source": [
    "# % passing reading..cont..\n",
    "#dividing passers by total students\n",
    "read_pass_percentage = y / student_count\n",
    "read_pass_percentage"
   ]
  },
  {
   "cell_type": "code",
   "execution_count": null,
   "metadata": {},
   "outputs": [],
   "source": [
    "#Calculating the combined percentage of passing students\n",
    "passers=read_pass_percentage + math_pass_percentage\n",
    "combined_pass = passers / 2\n",
    "combined_pass"
   ]
  },
  {
   "cell_type": "code",
   "execution_count": null,
   "metadata": {},
   "outputs": [],
   "source": [
    "#-----------------------------------------------------------------\n",
    "#Final District Summary\n",
    "#-----------------------------------------------------------------\n",
    "district_summary_table = pd.DataFrame({\"School Count\":school_count,\n",
    "                             \"Student Count\":[student_count],\n",
    "                             \"Total Budget\":[total_budget],\n",
    "                             \"Average Math Score\":[average_math],\n",
    "                             \"Average Reading Score\":[average_reading],\n",
    "                             \"Math Pass %\":[math_pass_percentage],\n",
    "                             \"Reading Pass %\":[read_pass_percentage],\n",
    "                              \"Combined Pass Percent\":[combined_pass]})\n",
    "\n",
    "district_summary_table = district_summary_table[[\"School Count\",\"Student Count\",\"Total Budget\",\"Average Math Score\",\"Average Reading Score\",\"Math Pass %\",\"Reading Pass %\",\"Combined Pass Percent\"]]\n",
    "district_summary_table.head()"
   ]
  },
  {
   "cell_type": "code",
   "execution_count": null,
   "metadata": {},
   "outputs": [],
   "source": [
    "#renaming school column to match so I can merge on it\n",
    "school_df.rename(columns={'name':'school'}, inplace=True)\n",
    "school_df.head()\n",
    "                 "
   ]
  },
  {
   "cell_type": "code",
   "execution_count": null,
   "metadata": {
    "collapsed": true
   },
   "outputs": [],
   "source": [
    "# game plan for 2nd mission\n",
    "\n",
    "#create a df with all the data you need combined = merged_df\n",
    "#grab the top school passing percent = top_schools\n",
    "#group by the rest using loc\n",
    "#Answer all questions\n",
    "#complete a use case after two school on a concat / merge\n",
    "#combined the findings with a merge or concat"
   ]
  },
  {
   "cell_type": "code",
   "execution_count": null,
   "metadata": {},
   "outputs": [],
   "source": [
    "#merging on school\n",
    "merged_df = pd.merge(school_df, student_df, on=\"school\")\n",
    "merged_df.tail()"
   ]
  },
  {
   "cell_type": "code",
   "execution_count": null,
   "metadata": {},
   "outputs": [],
   "source": [
    "#Making a combined percentage column\n",
    "merged_df[\"Combined Score Percentage\"]= merged_df[\"reading_score\"]+merged_df[\"math_score\"] / 200\n",
    "merged_df.head()"
   ]
  },
  {
   "cell_type": "code",
   "execution_count": null,
   "metadata": {},
   "outputs": [],
   "source": [
    "#group by schoool\n",
    "groupmerge_df = merged_df.groupby(['school'])\n",
    "groupmerge_df.count()"
   ]
  },
  {
   "cell_type": "code",
   "execution_count": null,
   "metadata": {},
   "outputs": [],
   "source": [
    "#Grabbing top schools and their overall passing rate\n",
    "top_schools = groupmerge_df[\"Combined Score Percentage\"].mean()\n",
    "top_schools=pd.DataFrame(top_schools)\n",
    "top_schools= top_schools.sort_values(\"Combined Score Percentage\", ascending=False)\n",
    "top_schools.head()"
   ]
  },
  {
   "cell_type": "code",
   "execution_count": null,
   "metadata": {},
   "outputs": [],
   "source": [
    "#Creating a DF with pena school resetting index\n",
    "pena_df = merged_df.loc[merged_df[\"school\"]==\"Pena High School\",:]\n",
    "pena_df = pena_df.reset_index(drop=True)\n",
    "pena_df.head()"
   ]
  },
  {
   "cell_type": "code",
   "execution_count": null,
   "metadata": {},
   "outputs": [],
   "source": [
    "#Grab all the data that is required\n",
    "pena_combined_ave = pena_df['Combined Score Percentage'].mean()\n",
    "pena_combined_ave"
   ]
  },
  {
   "cell_type": "code",
   "execution_count": null,
   "metadata": {},
   "outputs": [],
   "source": [
    "school_type = pena_df.iloc[0,2]\n",
    "school_type"
   ]
  },
  {
   "cell_type": "code",
   "execution_count": null,
   "metadata": {
    "collapsed": true
   },
   "outputs": [],
   "source": []
  }
 ],
 "metadata": {
  "kernelspec": {
   "display_name": "Python 3",
   "language": "python",
   "name": "python3"
  },
  "language_info": {
   "codemirror_mode": {
    "name": "ipython",
    "version": 3
   },
   "file_extension": ".py",
   "mimetype": "text/x-python",
   "name": "python",
   "nbconvert_exporter": "python",
   "pygments_lexer": "ipython3",
   "version": "3.6.3"
  }
 },
 "nbformat": 4,
 "nbformat_minor": 2
}
