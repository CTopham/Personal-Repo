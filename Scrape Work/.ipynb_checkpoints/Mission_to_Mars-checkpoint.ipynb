{
 "cells": [
  {
   "cell_type": "code",
   "execution_count": 26,
   "metadata": {},
   "outputs": [],
   "source": [
    "#Importing dependencies\n",
    "import time\n",
    "from splinter import Browser\n",
    "from bs4 import BeautifulSoup\n",
    "from selenium import webdriver\n",
    "import pandas as pd\n",
    "import numpy as np\n"
   ]
  },
  {
   "cell_type": "code",
   "execution_count": 30,
   "metadata": {},
   "outputs": [],
   "source": [
    "#Executing Chrome Driver for auto navigation to click links\n",
    "def init_browser():\n",
    "    executable_path = {'executable_path': r'C:\\Users\\Craig\\Desktop\\chromedriver.exe'}\n",
    "    return Browser(\"chrome\", **executable_path, headless=False)"
   ]
  },
  {
   "cell_type": "code",
   "execution_count": 3,
   "metadata": {},
   "outputs": [],
   "source": [
    "#Looping through Nasa website and grabbing the latest title and news\n",
    "browser = init_browser()\n",
    "listings = {}\n",
    "#Setting url to website\n",
    "url = \"https://mars.nasa.gov/news/?page=0&per_page=40&order=publish_date+desc%2Ccreated_at+desc&search=&category=19%2C165%2C184%2C204&blank_scope=Latest\"\n",
    "browser.visit(url)\n",
    "time.sleep(2)\n",
    "#grabbing html\n",
    "html = browser.html\n",
    "soup = BeautifulSoup(html, \"html.parser\")\n",
    "#Grabbing title and paragraph text\n",
    "try:\n",
    "    listings[\"News_Title\"] = soup.find(class_=\"content_title\").get_text()\n",
    "#    xpath = '//*[contains(@class, \"list_image\")]'\n",
    "#    results = browser.find_by_xpath(xpath)\n",
    "#    img = results[0]\n",
    "#    img.click()\n",
    "#    html = browser.html\n",
    "#    soup = BeautifulSoup(html, \"html.parser\")\n",
    "    #opening new window with [paragraph]\n",
    "#    html = browser.html\n",
    "#    soup = BeautifulSoup(html, \"html.parser\")\n",
    "    listings[\"Newsp\"] = soup.find(class_=\"article_teaser_body\").get_text()\n",
    "except AttributeError:\n",
    "        print (\"Error found\")"
   ]
  },
  {
   "cell_type": "code",
   "execution_count": 4,
   "metadata": {},
   "outputs": [
    {
     "data": {
      "text/plain": [
       "{'News_Title': 'Mars Helicopter to Fly on NASA’s Next Red Planet Rover Mission',\n",
       " 'Newsp': 'NASA is adding a Mars helicopter to the agency’s next mission to the Red Planet, Mars 2020.'}"
      ]
     },
     "execution_count": 4,
     "metadata": {},
     "output_type": "execute_result"
    }
   ],
   "source": [
    "listings"
   ]
  },
  {
   "cell_type": "code",
   "execution_count": 5,
   "metadata": {},
   "outputs": [],
   "source": [
    "browser = init_browser()\n",
    "featured_image_url = []\n",
    "url = \"https://www.jpl.nasa.gov/spaceimages/?search=&category=Mars\"\n",
    "browser.visit(url)\n",
    "time.sleep(2)\n",
    "html = browser.html\n",
    "soup = BeautifulSoup(html, \"html.parser\")\n",
    "try: \n",
    "    xpath = '//*[contains(@class, \"button fancybox\")]'\n",
    "    results = browser.find_by_xpath(xpath)\n",
    "    img = results[0]\n",
    "    img.click()\n",
    "    time.sleep(2)\n",
    "    html = browser.html\n",
    "    soup = BeautifulSoup(html, \"html.parser\")\n",
    "    elem = soup.find(id=\"fancybox-lock\")\n",
    "    img_src = elem.find(\"img\")[\"src\"]\n",
    "\n",
    "except AttributeError:\n",
    "        print (\"Error found\")"
   ]
  },
  {
   "cell_type": "code",
   "execution_count": 6,
   "metadata": {},
   "outputs": [
    {
     "data": {
      "text/plain": [
       "'/spaceimages/images/mediumsize/PIA16815_ip.jpg'"
      ]
     },
     "execution_count": 6,
     "metadata": {},
     "output_type": "execute_result"
    }
   ],
   "source": [
    "img_src"
   ]
  },
  {
   "cell_type": "code",
   "execution_count": 7,
   "metadata": {},
   "outputs": [],
   "source": [
    "#Concatting the img src to the URL\n",
    "featured_image_url = 'www.jpl.nasa.gov' + img_src"
   ]
  },
  {
   "cell_type": "code",
   "execution_count": 8,
   "metadata": {},
   "outputs": [
    {
     "data": {
      "text/plain": [
       "'www.jpl.nasa.gov/spaceimages/images/mediumsize/PIA16815_ip.jpg'"
      ]
     },
     "execution_count": 8,
     "metadata": {},
     "output_type": "execute_result"
    }
   ],
   "source": [
    "listings['featured_image_url'] = featured_image_url\n",
    "listings['featured_image_url']"
   ]
  },
  {
   "cell_type": "code",
   "execution_count": 9,
   "metadata": {},
   "outputs": [],
   "source": [
    "#Looping through the Mars Report on Twitter and grabbing the most recent Tweet\n",
    "browser = init_browser()\n",
    "last_tweet = []\n",
    "#Setting url to website\n",
    "url = \"https://twitter.com/marswxreport?lang=en\"\n",
    "browser.visit(url)\n",
    "time.sleep(2)\n",
    "#grabbing html\n",
    "html = browser.html\n",
    "soup = BeautifulSoup(html, \"html.parser\")\n",
    "#Clicking the most recent tweet and collecting data\n",
    "\n",
    "try:\n",
    "    xpath = '//*[contains(@class, \"js-tweet-text-container\")]'\n",
    "    results = browser.find_by_xpath(xpath)\n",
    "    img = results[0]\n",
    "    img.click()\n",
    "    time.sleep(6)\n",
    "    html = browser.html\n",
    "    soup = BeautifulSoup(html, \"html.parser\")\n",
    "    last_tweet = soup.find(class_=\"TweetTextSize TweetTextSize--jumbo js-tweet-text tweet-text\").get_text()\n",
    "except AttributeError:\n",
    "        print (\"Error found\")"
   ]
  },
  {
   "cell_type": "code",
   "execution_count": 10,
   "metadata": {},
   "outputs": [],
   "source": [
    "listings['New_Tweet']=last_tweet"
   ]
  },
  {
   "cell_type": "code",
   "execution_count": 11,
   "metadata": {},
   "outputs": [],
   "source": [
    "Key_lime = []\n",
    "#Looping through Space  website and grabbing the keys to build a DF\n",
    "browser = init_browser()\n",
    "#Setting url to website\n",
    "url = \"https://space-facts.com/mars/\"\n",
    "browser.visit(url)\n",
    "time.sleep(2)\n",
    "#grabbing html\n",
    "html = browser.html\n",
    "soup = BeautifulSoup(html, \"html.parser\")\n",
    "for strong_tag in soup.find_all('strong'):\n",
    "    Key_lime.append(strong_tag.text)\n"
   ]
  },
  {
   "cell_type": "code",
   "execution_count": 12,
   "metadata": {},
   "outputs": [],
   "source": [
    "v_tagz = []\n",
    "#Looping through Space  website and grabbing the values to build a DF\n",
    "browser = init_browser()\n",
    "#Setting url to website\n",
    "url = \"https://space-facts.com/mars/\"\n",
    "browser.visit(url)\n",
    "time.sleep(2)\n",
    "#grabbing html\n",
    "html = browser.html\n",
    "soup = BeautifulSoup(html, \"html.parser\")\n",
    "for v_tag in soup.find_all(class_='column-2'):\n",
    "    v_tagz.append(v_tag.text)"
   ]
  },
  {
   "cell_type": "code",
   "execution_count": 13,
   "metadata": {},
   "outputs": [
    {
     "data": {
      "text/html": [
       "<div>\n",
       "<style scoped>\n",
       "    .dataframe tbody tr th:only-of-type {\n",
       "        vertical-align: middle;\n",
       "    }\n",
       "\n",
       "    .dataframe tbody tr th {\n",
       "        vertical-align: top;\n",
       "    }\n",
       "\n",
       "    .dataframe thead th {\n",
       "        text-align: right;\n",
       "    }\n",
       "</style>\n",
       "<table border=\"1\" class=\"dataframe\">\n",
       "  <thead>\n",
       "    <tr style=\"text-align: right;\">\n",
       "      <th></th>\n",
       "      <th>Keys</th>\n",
       "      <th>Values</th>\n",
       "    </tr>\n",
       "  </thead>\n",
       "  <tbody>\n",
       "    <tr>\n",
       "      <th>0</th>\n",
       "      <td>Equatorial Diameter:</td>\n",
       "      <td>6,792 km\\n</td>\n",
       "    </tr>\n",
       "    <tr>\n",
       "      <th>1</th>\n",
       "      <td>Polar Diameter:</td>\n",
       "      <td>6,752 km\\n</td>\n",
       "    </tr>\n",
       "    <tr>\n",
       "      <th>2</th>\n",
       "      <td>Mass:</td>\n",
       "      <td>6.42 x 10^23 kg (10.7% Earth)</td>\n",
       "    </tr>\n",
       "    <tr>\n",
       "      <th>3</th>\n",
       "      <td>Moons:</td>\n",
       "      <td>2 (Phobos &amp; Deimos)</td>\n",
       "    </tr>\n",
       "    <tr>\n",
       "      <th>4</th>\n",
       "      <td>Orbit Distance:</td>\n",
       "      <td>227,943,824 km (1.52 AU)</td>\n",
       "    </tr>\n",
       "    <tr>\n",
       "      <th>5</th>\n",
       "      <td>Orbit Period:</td>\n",
       "      <td>687 days (1.9 years)\\n</td>\n",
       "    </tr>\n",
       "    <tr>\n",
       "      <th>6</th>\n",
       "      <td>Surface Temperature:</td>\n",
       "      <td>-153 to 20 °C</td>\n",
       "    </tr>\n",
       "    <tr>\n",
       "      <th>7</th>\n",
       "      <td>First Record:</td>\n",
       "      <td>2nd millennium BC</td>\n",
       "    </tr>\n",
       "    <tr>\n",
       "      <th>8</th>\n",
       "      <td>Recorded By:</td>\n",
       "      <td>Egyptian astronomers</td>\n",
       "    </tr>\n",
       "  </tbody>\n",
       "</table>\n",
       "</div>"
      ],
      "text/plain": [
       "                    Keys                         Values\n",
       "0   Equatorial Diameter:                     6,792 km\\n\n",
       "1        Polar Diameter:                     6,752 km\\n\n",
       "2                  Mass:  6.42 x 10^23 kg (10.7% Earth)\n",
       "3                 Moons:            2 (Phobos & Deimos)\n",
       "4        Orbit Distance:       227,943,824 km (1.52 AU)\n",
       "5          Orbit Period:         687 days (1.9 years)\\n\n",
       "6  Surface Temperature:                   -153 to 20 °C\n",
       "7          First Record:              2nd millennium BC\n",
       "8           Recorded By:           Egyptian astronomers"
      ]
     },
     "execution_count": 13,
     "metadata": {},
     "output_type": "execute_result"
    }
   ],
   "source": [
    "#Creating a DF with the table keys and values\n",
    "df = pd.DataFrame(\n",
    "    {'Keys': Key_lime[:9],\n",
    "     'Values': v_tagz,\n",
    "    })\n",
    "df"
   ]
  },
  {
   "cell_type": "code",
   "execution_count": null,
   "metadata": {},
   "outputs": [],
   "source": [
    "#Converting to html\n",
    "df.to_html('Output/Mars_Table.html')"
   ]
  },
  {
   "cell_type": "code",
   "execution_count": 34,
   "metadata": {},
   "outputs": [
    {
     "ename": "SyntaxError",
     "evalue": "invalid syntax (<ipython-input-34-e8699154aab1>, line 41)",
     "output_type": "error",
     "traceback": [
      "\u001b[1;36m  File \u001b[1;32m\"<ipython-input-34-e8699154aab1>\"\u001b[1;36m, line \u001b[1;32m41\u001b[0m\n\u001b[1;33m    browser.execute_script(\"window.history.go(-1)\")\u001b[0m\n\u001b[1;37m          ^\u001b[0m\n\u001b[1;31mSyntaxError\u001b[0m\u001b[1;31m:\u001b[0m invalid syntax\n"
     ]
    }
   ],
   "source": [
    "#Going to the Astrogeology  website and clicking on each of the 4 mars images to get full size and grabbing their title  \n",
    "browser = init_browser()\n",
    "url = \"https://astrogeology.usgs.gov/search/results?q=hemisphere+enhanced&k1=target&v1=Mars\"\n",
    "browser.visit(url)\n",
    "time.sleep(2)\n",
    "#grabbing html\n",
    "html = browser.html\n",
    "soup = BeautifulSoup(html, \"html.parser\")\n",
    "#Grabbing title and paragraph text\n",
    "\n",
    "try:\n",
    "    #Pulling data from Cerberus Page\n",
    "    xpath = '//*[contains(@src,\"/cache/images/dfaf3849e74bf973b59eb50dab52b583_cerberus_enhanced.tif_thumb.png\")]'\n",
    "    results = browser.find_by_xpath(xpath)\n",
    "    img = results[0]\n",
    "    img.click()\n",
    "    time.sleep(6)\n",
    "    html = browser.html\n",
    "    soup = BeautifulSoup(html, \"html.parser\")\n",
    "    listings[\"cerb_title\"] = soup.find(class_='title').text\n",
    "    all_Images = soup.find(\"div\", {\"downloads\"},{\"img\"})\n",
    "    listings['cerb_img'] = all_Images.find('a', href=True)['href']\n",
    "    \n",
    "    #Pulling data from Schiaparelli Page\n",
    "    \n",
    "    browser.execute_script(\"window.history.go(-1)\")\n",
    "    time.sleep(2)\n",
    "    xpath = '//*[contains(@src,\"/cache/images/7677c0a006b83871b5a2f66985ab5857_schiaparelli_enhanced.tif_thumb.png\")]'\n",
    "    results = browser.find_by_xpath(xpath)\n",
    "    img = results[0]\n",
    "    img.click()\n",
    "    time.sleep(2)\n",
    "    html = browser.html\n",
    "    soup = BeautifulSoup(html, \"html.parser\")\n",
    "    listings['schia_title'] = soup.find(class_='title').text\n",
    "    all_Images = soup.find(\"div\", {\"downloads\"},{\"img\"})\n",
    "    listings['schia_img'] = (all_Images.find('a', href=True)['href']\n",
    "    \n",
    "        #Pulling data from Syrtus Page\n",
    "    \n",
    "    browser.execute_script(\"window.history.go(-1)\")\n",
    "    time.sleep(2)\n",
    "    xpath = '//*[contains(@src,\"/cache/images/aae41197e40d6d4f3ea557f8cfe51d15_syrtis_major_enhanced.tif_thumb.png\")]'\n",
    "    results = browser.find_by_xpath(xpath)\n",
    "    img = results[0]\n",
    "    img.click()\n",
    "    time.sleep(2)\n",
    "    html = browser.html\n",
    "    soup = BeautifulSoup(html, \"html.parser\")\n",
    "    listings['syrtus_title'] = (soup.find(class_='title').text\n",
    "    all_Images = soup.find(\"div\", {\"downloads\"},{\"img\"})\n",
    "    listings['syrtus_img'] = all_Images.find('a', href=True)['href']\n",
    "    \n",
    "            #Pulling data from Valles Marineras Page\n",
    "    \n",
    "    browser.execute_script(\"window.history.go(-1)\")\n",
    "    time.sleep(2)\n",
    "    xpath = '//*[contains(@src,\"/cache/images/04085d99ec3713883a9a57f42be9c725_valles_marineris_enhanced.tif_thumb.png\")]'\n",
    "    results = browser.find_by_xpath(xpath)\n",
    "    img = results[0]\n",
    "    img.click()\n",
    "    time.sleep(2)\n",
    "    html = browser.html\n",
    "    soup = BeautifulSoup(html, \"html.parser\")\n",
    "    listings['vm_title'] = soup.find(class_='title').text\n",
    "    all_Images = soup.find(\"div\", {\"downloads\"},{\"img\"})\n",
    "    listings['vm_img'] = all_Images.find('a', href=True)['href']\n",
    "\n",
    "except AttributeError:\n",
    "        print (\"Error found\")"
   ]
  },
  {
   "cell_type": "code",
   "execution_count": 40,
   "metadata": {},
   "outputs": [],
   "source": [
    "#Going to the Astrogeology  website and clicking on each of the 4 mars images to get full size and grabbing their title\n",
    "Astro_title = []\n",
    "Astro_img = []    \n",
    "browser = init_browser()\n",
    "url = \"https://astrogeology.usgs.gov/search/results?q=hemisphere+enhanced&k1=target&v1=Mars\"\n",
    "browser.visit(url)\n",
    "time.sleep(2)\n",
    "#grabbing html\n",
    "html = browser.html\n",
    "soup = BeautifulSoup(html, \"html.parser\")\n",
    "#Grabbing title and paragraph text\n",
    "\n",
    "try:\n",
    "    #Pulling data from Cerberus Page\n",
    "    xpath = '//*[contains(@src,\"/cache/images/dfaf3849e74bf973b59eb50dab52b583_cerberus_enhanced.tif_thumb.png\")]'\n",
    "    results = browser.find_by_xpath(xpath)\n",
    "    img = results[0]\n",
    "    img.click()\n",
    "    time.sleep(6)\n",
    "    html = browser.html\n",
    "    soup = BeautifulSoup(html, \"html.parser\")\n",
    "    listings[\"cerb_title\"] = soup.find(class_='title').text\n",
    "    all_Images = soup.find(\"div\", {\"downloads\"},{\"img\"})\n",
    "    listings['cerb_img'] = all_Images.find('a', href=True)['href']\n",
    "    \n",
    "    #Pulling data from Schiaparelli Page\n",
    "    \n",
    "    browser.execute_script(\"window.history.go(-1)\")\n",
    "    time.sleep(2)\n",
    "    xpath = '//*[contains(@src,\"/cache/images/7677c0a006b83871b5a2f66985ab5857_schiaparelli_enhanced.tif_thumb.png\")]'\n",
    "    results = browser.find_by_xpath(xpath)\n",
    "    img = results[0]\n",
    "    img.click()\n",
    "    time.sleep(2)\n",
    "    html = browser.html\n",
    "    soup = BeautifulSoup(html, \"html.parser\")\n",
    "    listings[\"schia_title\"] = soup.find(class_='title').text\n",
    "    all_Images = soup.find(\"div\", {\"downloads\"},{\"img\"})\n",
    "    listings['schia_img'] = all_Images.find('a', href=True)['href']\n",
    "    \n",
    "        #Pulling data from Syrtus Page\n",
    "    \n",
    "    browser.execute_script(\"window.history.go(-1)\")\n",
    "    time.sleep(2)\n",
    "    xpath = '//*[contains(@src,\"/cache/images/aae41197e40d6d4f3ea557f8cfe51d15_syrtis_major_enhanced.tif_thumb.png\")]'\n",
    "    results = browser.find_by_xpath(xpath)\n",
    "    img = results[0]\n",
    "    img.click()\n",
    "    time.sleep(2)\n",
    "    html = browser.html\n",
    "    soup = BeautifulSoup(html, \"html.parser\")\n",
    "    listings[\"syrtus_title\"] = soup.find(class_='title').text\n",
    "    all_Images = soup.find(\"div\", {\"downloads\"},{\"img\"})\n",
    "    listings['syrtus_img'] = all_Images.find('a', href=True)['href']\n",
    "    \n",
    "            #Pulling data from Valles Marineras Page\n",
    "    \n",
    "    browser.execute_script(\"window.history.go(-1)\")\n",
    "    time.sleep(2)\n",
    "    xpath = '//*[contains(@src,\"/cache/images/04085d99ec3713883a9a57f42be9c725_valles_marineris_enhanced.tif_thumb.png\")]'\n",
    "    results = browser.find_by_xpath(xpath)\n",
    "    img = results[0]\n",
    "    img.click()\n",
    "    time.sleep(2)\n",
    "    html = browser.html\n",
    "    soup = BeautifulSoup(html, \"html.parser\")\n",
    "    listings[\"vm_title\"] = soup.find(class_='title').text\n",
    "    all_Images = soup.find(\"div\", {\"downloads\"},{\"img\"})\n",
    "    listings['vm_img'] = all_Images.find('a', href=True)['href']\n",
    "\n",
    "except AttributeError:\n",
    "        print (\"Error found\")"
   ]
  },
  {
   "cell_type": "code",
   "execution_count": 33,
   "metadata": {},
   "outputs": [
    {
     "data": {
      "text/html": [
       "<div>\n",
       "<style scoped>\n",
       "    .dataframe tbody tr th:only-of-type {\n",
       "        vertical-align: middle;\n",
       "    }\n",
       "\n",
       "    .dataframe tbody tr th {\n",
       "        vertical-align: top;\n",
       "    }\n",
       "\n",
       "    .dataframe thead th {\n",
       "        text-align: right;\n",
       "    }\n",
       "</style>\n",
       "<table border=\"1\" class=\"dataframe\">\n",
       "  <thead>\n",
       "    <tr style=\"text-align: right;\">\n",
       "      <th></th>\n",
       "      <th>Link</th>\n",
       "      <th>Title</th>\n",
       "    </tr>\n",
       "  </thead>\n",
       "  <tbody>\n",
       "    <tr>\n",
       "      <th>0</th>\n",
       "      <td>http://astropedia.astrogeology.usgs.gov/download/Mars/Viking/cerberus_enhanced.tif/full.jpg</td>\n",
       "      <td>Cerberus Hemisphere Enhanced</td>\n",
       "    </tr>\n",
       "    <tr>\n",
       "      <th>1</th>\n",
       "      <td>http://astropedia.astrogeology.usgs.gov/download/Mars/Viking/schiaparelli_enhanced.tif/full.jpg</td>\n",
       "      <td>Schiaparelli Hemisphere Enhanced</td>\n",
       "    </tr>\n",
       "    <tr>\n",
       "      <th>2</th>\n",
       "      <td>http://astropedia.astrogeology.usgs.gov/download/Mars/Viking/syrtis_major_enhanced.tif/full.jpg</td>\n",
       "      <td>Syrtis Major Hemisphere Enhanced</td>\n",
       "    </tr>\n",
       "    <tr>\n",
       "      <th>3</th>\n",
       "      <td>http://astropedia.astrogeology.usgs.gov/download/Mars/Viking/syrtis_major_enhanced.tif/full.jpg</td>\n",
       "      <td>Syrtis Major Hemisphere Enhanced</td>\n",
       "    </tr>\n",
       "  </tbody>\n",
       "</table>\n",
       "</div>"
      ],
      "text/plain": [
       "                                                                                              Link  \\\n",
       "0  http://astropedia.astrogeology.usgs.gov/download/Mars/Viking/cerberus_enhanced.tif/full.jpg       \n",
       "1  http://astropedia.astrogeology.usgs.gov/download/Mars/Viking/schiaparelli_enhanced.tif/full.jpg   \n",
       "2  http://astropedia.astrogeology.usgs.gov/download/Mars/Viking/syrtis_major_enhanced.tif/full.jpg   \n",
       "3  http://astropedia.astrogeology.usgs.gov/download/Mars/Viking/syrtis_major_enhanced.tif/full.jpg   \n",
       "\n",
       "                              Title  \n",
       "0  Cerberus Hemisphere Enhanced      \n",
       "1  Schiaparelli Hemisphere Enhanced  \n",
       "2  Syrtis Major Hemisphere Enhanced  \n",
       "3  Syrtis Major Hemisphere Enhanced  "
      ]
     },
     "execution_count": 33,
     "metadata": {},
     "output_type": "execute_result"
    }
   ],
   "source": [
    "#Placing the Mars image and title into a DF\n",
    "Mars_Hemisphere = pd.DataFrame(\n",
    "    {'Title': Astro_title,\n",
    "     'Link': Astro_img,\n",
    "    })\n",
    "pd.set_option('display.max_colwidth', -1)\n",
    "Mars_Hemisphere"
   ]
  },
  {
   "cell_type": "code",
   "execution_count": null,
   "metadata": {},
   "outputs": [],
   "source": [
    "#Mars_Hemisphere.to_html(\"Output/Mars_Hemisphere.html\")"
   ]
  }
 ],
 "metadata": {
  "kernelspec": {
   "display_name": "Python 3",
   "language": "python",
   "name": "python3"
  },
  "language_info": {
   "codemirror_mode": {
    "name": "ipython",
    "version": 3
   },
   "file_extension": ".py",
   "mimetype": "text/x-python",
   "name": "python",
   "nbconvert_exporter": "python",
   "pygments_lexer": "ipython3",
   "version": "3.6.4"
  }
 },
 "nbformat": 4,
 "nbformat_minor": 2
}
